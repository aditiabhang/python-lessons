{
 "cells": [
  {
   "cell_type": "code",
   "execution_count": 1,
   "metadata": {},
   "outputs": [],
   "source": [
    "# \"*args\" indicates that the function can be invoked with any number of arguments\n",
    "\n",
    "def variable_func(*args):\n",
    "    \n",
    "    args_type = type(args)\n",
    "    print(args_type)\n",
    "    \n",
    "    print(args)"
   ]
  },
  {
   "cell_type": "code",
   "execution_count": 2,
   "metadata": {},
   "outputs": [
    {
     "name": "stdout",
     "output_type": "stream",
     "text": [
      "<class 'tuple'>\n",
      "()\n"
     ]
    }
   ],
   "source": [
    "# we are able to find out the type of the args\n",
    "# it is a tuple\n",
    "variable_func()"
   ]
  },
  {
   "cell_type": "code",
   "execution_count": 4,
   "metadata": {},
   "outputs": [
    {
     "name": "stdout",
     "output_type": "stream",
     "text": [
      "<class 'tuple'>\n",
      "(1, 2)\n"
     ]
    }
   ],
   "source": [
    "# now our function can behave like the built-in print() which accepts multiple arguments\n",
    "\n",
    "variable_func(1, 2)"
   ]
  },
  {
   "cell_type": "code",
   "execution_count": 5,
   "metadata": {},
   "outputs": [
    {
     "name": "stdout",
     "output_type": "stream",
     "text": [
      "<class 'tuple'>\n",
      "(1.0, 'robot', 2)\n"
     ]
    }
   ],
   "source": [
    "# and arguments of mixed data-types as well\n",
    "\n",
    "variable_func(1.0, \"robot\", 2)"
   ]
  },
  {
   "cell_type": "code",
   "execution_count": 6,
   "metadata": {},
   "outputs": [
    {
     "name": "stdout",
     "output_type": "stream",
     "text": [
      "<class 'tuple'>\n",
      "([10, 20, 30, 40],)\n"
     ]
    }
   ],
   "source": [
    "# pass a list to the function\n",
    "num_list = [10, 20, 30, 40]\n",
    "\n",
    "# we get the entire list as a single element in the output\n",
    "variable_func(num_list)"
   ]
  },
  {
   "cell_type": "code",
   "execution_count": 8,
   "metadata": {},
   "outputs": [
    {
     "name": "stdout",
     "output_type": "stream",
     "text": [
      "<class 'tuple'>\n",
      "(10, 20, 30, 40)\n"
     ]
    }
   ],
   "source": [
    "# what if we want to individual elements to be separate input arguments to our function\n",
    "\n",
    "# NOTE : we can unpack the elements in the list and pass it to our function as shown below\n",
    "# once inside the function python re-packs the elements and returns them as individual elements of the tuple\n",
    "\n",
    "variable_func(*num_list)"
   ]
  },
  {
   "cell_type": "code",
   "execution_count": null,
   "metadata": {},
   "outputs": [],
   "source": []
  },
  {
   "cell_type": "code",
   "execution_count": 9,
   "metadata": {},
   "outputs": [],
   "source": [
    "def students_in_college(city, college, *students):\n",
    "    print(\"city: \", city)\n",
    "    print(\"college: \", college)\n",
    "    print(\"students: \", students)"
   ]
  },
  {
   "cell_type": "code",
   "execution_count": 10,
   "metadata": {},
   "outputs": [
    {
     "name": "stdout",
     "output_type": "stream",
     "text": [
      "city:  Austin\n",
      "college:  ACC\n",
      "students:  ('Jon', 'Jane')\n"
     ]
    }
   ],
   "source": [
    "students_in_college(\"Austin\", \"ACC\", \"Jon\", \"Jane\")"
   ]
  },
  {
   "cell_type": "code",
   "execution_count": 11,
   "metadata": {},
   "outputs": [
    {
     "name": "stdout",
     "output_type": "stream",
     "text": [
      "city:  Austin\n",
      "college:  ACC\n",
      "students:  ('Jon', 'Jane', 'Alice')\n"
     ]
    }
   ],
   "source": [
    "students_in_college(\"Austin\", \"ACC\", \"Jon\", \"Jane\", \"Alice\")"
   ]
  },
  {
   "cell_type": "code",
   "execution_count": null,
   "metadata": {},
   "outputs": [],
   "source": []
  },
  {
   "cell_type": "code",
   "execution_count": 13,
   "metadata": {},
   "outputs": [
    {
     "ename": "SyntaxError",
     "evalue": "positional argument follows keyword argument (<ipython-input-13-67e335a88bdb>, line 1)",
     "output_type": "error",
     "traceback": [
      "\u001b[0;36m  File \u001b[0;32m\"<ipython-input-13-67e335a88bdb>\"\u001b[0;36m, line \u001b[0;32m1\u001b[0m\n\u001b[0;31m    students_in_college(city=\"Austin\", college=\"ACC\", \"Jon\", \"Jane\")\u001b[0m\n\u001b[0m                                                     ^\u001b[0m\n\u001b[0;31mSyntaxError\u001b[0m\u001b[0;31m:\u001b[0m positional argument follows keyword argument\n"
     ]
    }
   ],
   "source": [
    "# this is not allowed since we are passing kw args before positional args (*students in this case)\n",
    "\n",
    "students_in_college(city=\"Austin\", college=\"ACC\", \"Jon\", \"Jane\")"
   ]
  },
  {
   "cell_type": "code",
   "execution_count": 14,
   "metadata": {},
   "outputs": [],
   "source": [
    "#  invoking the with kw args passed in first can be tricky\n",
    "\n",
    "def students_in_college(*students, city, college):\n",
    "    print(\"city: \", city)\n",
    "    print(\"college: \", college)\n",
    "    print(\"students: \", students)"
   ]
  },
  {
   "cell_type": "code",
   "execution_count": 16,
   "metadata": {},
   "outputs": [
    {
     "ename": "TypeError",
     "evalue": "students_in_college() missing 2 required keyword-only arguments: 'city' and 'college'",
     "output_type": "error",
     "traceback": [
      "\u001b[0;31m---------------------------------------------------------------------------\u001b[0m",
      "\u001b[0;31mTypeError\u001b[0m                                 Traceback (most recent call last)",
      "\u001b[0;32m<ipython-input-16-bfde8afe6250>\u001b[0m in \u001b[0;36m<module>\u001b[0;34m\u001b[0m\n\u001b[1;32m      1\u001b[0m \u001b[0;31m# this doesn't work since python\u001b[0m\u001b[0;34m\u001b[0m\u001b[0;34m\u001b[0m\u001b[0m\n\u001b[0;32m----> 2\u001b[0;31m \u001b[0mstudents_in_college\u001b[0m\u001b[0;34m(\u001b[0m\u001b[0;34m\"Jon\"\u001b[0m\u001b[0;34m,\u001b[0m \u001b[0;34m\"Austin\"\u001b[0m\u001b[0;34m,\u001b[0m \u001b[0;34m\"ACC\"\u001b[0m\u001b[0;34m)\u001b[0m\u001b[0;34m\u001b[0m\u001b[0m\n\u001b[0m",
      "\u001b[0;31mTypeError\u001b[0m: students_in_college() missing 2 required keyword-only arguments: 'city' and 'college'"
     ]
    }
   ],
   "source": [
    "# this doesn't work since python thinks all the values are student names\n",
    "\n",
    "students_in_college(\"Jon\", \"Austin\", \"ACC\")"
   ]
  },
  {
   "cell_type": "code",
   "execution_count": 17,
   "metadata": {},
   "outputs": [
    {
     "name": "stdout",
     "output_type": "stream",
     "text": [
      "city:  Austin\n",
      "college:  ACC\n",
      "students:  ('Jon', 'Jane')\n"
     ]
    }
   ],
   "source": [
    "# this will  work since we are passing kw args explicitly after positional args\n",
    "\n",
    "students_in_college(\"Jon\", \"Jane\", city=\"Austin\", college=\"ACC\")"
   ]
  },
  {
   "cell_type": "code",
   "execution_count": null,
   "metadata": {},
   "outputs": [],
   "source": []
  }
 ],
 "metadata": {
  "kernelspec": {
   "display_name": "Python 3",
   "language": "python",
   "name": "python3"
  },
  "language_info": {
   "codemirror_mode": {
    "name": "ipython",
    "version": 3
   },
   "file_extension": ".py",
   "mimetype": "text/x-python",
   "name": "python",
   "nbconvert_exporter": "python",
   "pygments_lexer": "ipython3",
   "version": "3.6.4"
  }
 },
 "nbformat": 4,
 "nbformat_minor": 4
}
