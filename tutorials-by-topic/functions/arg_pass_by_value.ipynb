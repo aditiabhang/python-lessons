{
 "cells": [
  {
   "cell_type": "code",
   "execution_count": 1,
   "metadata": {},
   "outputs": [],
   "source": [
    "# global vars \n",
    "\n",
    "salary = 1000\n",
    "expense = 200\n",
    "\n",
    "name = \"Dwight\"\n",
    "interest_rate = 0.04"
   ]
  },
  {
   "cell_type": "code",
   "execution_count": 2,
   "metadata": {},
   "outputs": [],
   "source": [
    "def print_savings_details():\n",
    "    \n",
    "    print(\"Name on account: \", name)\n",
    "    \n",
    "    savings = salary - expense\n",
    "    print(\"Savings\", savings)\n",
    "    print(\"Interest rate\", interest_rate)"
   ]
  },
  {
   "cell_type": "code",
   "execution_count": 3,
   "metadata": {},
   "outputs": [
    {
     "name": "stdout",
     "output_type": "stream",
     "text": [
      "Name on account:  Dwight\n",
      "Savings 800\n",
      "Interest rate 0.04\n"
     ]
    }
   ],
   "source": [
    "print_savings_details()"
   ]
  },
  {
   "cell_type": "code",
   "execution_count": null,
   "metadata": {},
   "outputs": [],
   "source": []
  },
  {
   "cell_type": "code",
   "execution_count": 4,
   "metadata": {},
   "outputs": [],
   "source": [
    "def print_savings_details(name, salary, expense, interest_rate):\n",
    "    \n",
    "    print(\"Name on account: \", name)\n",
    "    \n",
    "    savings = salary - expense\n",
    "    print(\"Savings\", savings)\n",
    "    print(\"Interest rate\", interest_rate)"
   ]
  },
  {
   "cell_type": "code",
   "execution_count": 5,
   "metadata": {},
   "outputs": [
    {
     "name": "stdout",
     "output_type": "stream",
     "text": [
      "Name on account:  Dwight\n",
      "Savings 800\n",
      "Interest rate 0.04\n"
     ]
    }
   ],
   "source": [
    "# printing when global vars are passed as args in the function\n",
    "print_savings_details(name, salary, expense, interest_rate)"
   ]
  },
  {
   "cell_type": "code",
   "execution_count": 6,
   "metadata": {},
   "outputs": [
    {
     "name": "stdout",
     "output_type": "stream",
     "text": [
      "Name on account:  Jim\n",
      "Savings 7000\n",
      "Interest rate 1\n"
     ]
    }
   ],
   "source": [
    "# args passed as values works as well. \n",
    "# args passed overrides the global vars\n",
    "print_savings_details(\"Jim\", 10000, 3000, 1)"
   ]
  },
  {
   "cell_type": "code",
   "execution_count": null,
   "metadata": {},
   "outputs": [],
   "source": []
  },
  {
   "cell_type": "code",
   "execution_count": 11,
   "metadata": {},
   "outputs": [],
   "source": [
    "# pass by value explanation\n",
    "# when you pass primitive data types(list, tuple, dictionary) to a function these args are passed by value.\n",
    "\n",
    "def print_savings_details(name, salary, expense, interest_rate):\n",
    "    \n",
    "    name = \"Harry\"\n",
    "    print(\"Name on account: \", name)\n",
    "    \n",
    "    # changes to the values of the variables inside the function does not affect the global variables\n",
    "\n",
    "    salary = salary * 2\n",
    "    expense = expense + 100\n",
    "    \n",
    "    savings = salary - expense\n",
    "    print(\"Savings\", savings)\n",
    "    \n",
    "    interest_rate = 0.09\n",
    "    print(\"Interest rate\", interest_rate)"
   ]
  },
  {
   "cell_type": "code",
   "execution_count": 12,
   "metadata": {},
   "outputs": [
    {
     "name": "stdout",
     "output_type": "stream",
     "text": [
      "Name on account:  Harry\n",
      "Savings 1700\n",
      "Interest rate 0.09\n"
     ]
    }
   ],
   "source": [
    "# values from global var are being passed. But, they get changed inside the function by value\n",
    "print_savings_details(name, salary, expense, interest_rate)"
   ]
  },
  {
   "cell_type": "code",
   "execution_count": 13,
   "metadata": {},
   "outputs": [
    {
     "data": {
      "text/plain": [
       "('Dwight', 1000, 200, 0.04)"
      ]
     },
     "execution_count": 13,
     "metadata": {},
     "output_type": "execute_result"
    }
   ],
   "source": [
    "# Observe that the values of the global variables have not changed.\n",
    "name, salary, expense, interest_rate"
   ]
  },
  {
   "cell_type": "code",
   "execution_count": null,
   "metadata": {},
   "outputs": [],
   "source": []
  },
  {
   "cell_type": "code",
   "execution_count": 14,
   "metadata": {},
   "outputs": [],
   "source": [
    "car_speeds_dictionary = {\n",
    "    \"Camry\": 120,\n",
    "    \"Accord\": 130,\n",
    "    \"Caynene\": 250,\n",
    "    \"Mino Cooper\": 100\n",
    "}"
   ]
  },
  {
   "cell_type": "code",
   "execution_count": 15,
   "metadata": {},
   "outputs": [],
   "source": [
    "def change_dictionary(car_speeds_dictionary):\n",
    "    \n",
    "    car_speeds_dictionary = {\n",
    "        \"Mustang\": 200\n",
    "    }\n",
    "    \n",
    "    print(\"Inside the function: \", car_speeds_dictionary)"
   ]
  },
  {
   "cell_type": "code",
   "execution_count": 16,
   "metadata": {},
   "outputs": [
    {
     "name": "stdout",
     "output_type": "stream",
     "text": [
      "Inside the function:  {'Mustang': 200}\n"
     ]
    }
   ],
   "source": [
    "# values passed inside the function does not change the values of the global variable\n",
    "change_dictionary(car_speeds_dictionary)"
   ]
  },
  {
   "cell_type": "code",
   "execution_count": 17,
   "metadata": {},
   "outputs": [
    {
     "data": {
      "text/plain": [
       "{'Camry': 120, 'Accord': 130, 'Caynene': 250, 'Mino Cooper': 100}"
      ]
     },
     "execution_count": 17,
     "metadata": {},
     "output_type": "execute_result"
    }
   ],
   "source": [
    "car_speeds_dictionary"
   ]
  },
  {
   "cell_type": "code",
   "execution_count": null,
   "metadata": {},
   "outputs": [],
   "source": []
  }
 ],
 "metadata": {
  "kernelspec": {
   "display_name": "Python 3",
   "language": "python",
   "name": "python3"
  },
  "language_info": {
   "codemirror_mode": {
    "name": "ipython",
    "version": 3
   },
   "file_extension": ".py",
   "mimetype": "text/x-python",
   "name": "python",
   "nbconvert_exporter": "python",
   "pygments_lexer": "ipython3",
   "version": "3.6.4"
  }
 },
 "nbformat": 4,
 "nbformat_minor": 4
}
