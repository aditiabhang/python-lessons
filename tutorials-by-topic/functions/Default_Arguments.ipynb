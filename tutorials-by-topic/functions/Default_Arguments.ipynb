{
 "cells": [
  {
   "cell_type": "code",
   "execution_count": 2,
   "metadata": {},
   "outputs": [],
   "source": [
    "# By default the keyword argument \"enrolled\" is set to false here\n",
    "\n",
    "    def student_details(name, school,\n",
    "                    physics, chemistry, maths, biology,\n",
    "                    enrolled=False):\n",
    "    total = physics + chemistry + maths + biology\n",
    "    \n",
    "    print(\"Name: \", name)\n",
    "    print(\"School: \", school, \"Enrolled: \", enrolled)\n",
    "    print(\"Total: \", total)"
   ]
  },
  {
   "cell_type": "code",
   "execution_count": 3,
   "metadata": {},
   "outputs": [
    {
     "name": "stdout",
     "output_type": "stream",
     "text": [
      "Name:  Alice\n",
      "School:  Columbia Enrolled:  True\n",
      "Total:  376\n"
     ]
    }
   ],
   "source": [
    "# even if the default value of keyword \"enrolled\" is false, when we invoke the function we can specify \"enrolled=True\"\n",
    "\n",
    "student_details(name=\"Alice\", school=\"Columbia\",\n",
    "                    physics=100, chemistry=90, maths=98, biology=88,\n",
    "                    enrolled=True)"
   ]
  },
  {
   "cell_type": "code",
   "execution_count": 4,
   "metadata": {},
   "outputs": [
    {
     "name": "stdout",
     "output_type": "stream",
     "text": [
      "Name:  Alice\n",
      "School:  Columbia Enrolled:  False\n",
      "Total:  376\n"
     ]
    }
   ],
   "source": [
    "# on the otherhand we can choose not to pass it and yet we won't get an error since there is already an default value specified\n",
    "\n",
    "student_details(name=\"Alice\", school=\"Columbia\",\n",
    "                    physics=100, chemistry=90, maths=98, biology=88)"
   ]
  },
  {
   "cell_type": "code",
   "execution_count": null,
   "metadata": {},
   "outputs": [],
   "source": []
  },
  {
   "cell_type": "code",
   "execution_count": 5,
   "metadata": {},
   "outputs": [
    {
     "ename": "SyntaxError",
     "evalue": "non-default argument follows default argument (<ipython-input-5-90010a629a6e>, line 6)",
     "output_type": "error",
     "traceback": [
      "\u001b[0;36m  File \u001b[0;32m\"<ipython-input-5-90010a629a6e>\"\u001b[0;36m, line \u001b[0;32m6\u001b[0m\n\u001b[0;31m    def student_details(name, school,\u001b[0m\n\u001b[0m                       ^\u001b[0m\n\u001b[0;31mSyntaxError\u001b[0m\u001b[0;31m:\u001b[0m non-default argument follows default argument\n"
     ]
    }
   ],
   "source": [
    "# IMPORTANT: non-default argument cannot be written after default arguments. That means only default arguments has to\n",
    "# come first.\n",
    "\n",
    "# Below way will not be allowed\n",
    "\n",
    "def student_details(name, school,\n",
    "                    physics=100, chemistry, maths=99, biology=90,\n",
    "                    enrolled=False):\n",
    "    total = physics + chemistry + maths + biology\n",
    "    \n",
    "    print(\"Name: \", name)\n",
    "    print(\"School: \", school, \"Enrolled: \", enrolled)\n",
    "    print(\"Total: \", total)\n"
   ]
  },
  {
   "cell_type": "code",
   "execution_count": null,
   "metadata": {},
   "outputs": [],
   "source": []
  },
  {
   "cell_type": "code",
   "execution_count": 7,
   "metadata": {},
   "outputs": [
    {
     "ename": "SyntaxError",
     "evalue": "non-default argument follows default argument (<ipython-input-7-d4a54afa4271>, line 5)",
     "output_type": "error",
     "traceback": [
      "\u001b[0;36m  File \u001b[0;32m\"<ipython-input-7-d4a54afa4271>\"\u001b[0;36m, line \u001b[0;32m5\u001b[0m\n\u001b[0;31m    def student_details(name, school=\"MIT\",\u001b[0m\n\u001b[0m                       ^\u001b[0m\n\u001b[0;31mSyntaxError\u001b[0m\u001b[0;31m:\u001b[0m non-default argument follows default argument\n"
     ]
    }
   ],
   "source": [
    "# another example of what isn't allowed\n",
    "\n",
    "\n",
    "\n",
    "def student_details(name, school=\"MIT\",\n",
    "                    physics, chemistry, maths=99, biology=90,\n",
    "                    enrolled=False):\n",
    "    total = physics + chemistry + maths + biology\n",
    "    \n",
    "    print(\"Name: \", name)\n",
    "    print(\"School: \", school, \"Enrolled: \", enrolled)\n",
    "    print(\"Total: \", total)"
   ]
  },
  {
   "cell_type": "code",
   "execution_count": null,
   "metadata": {},
   "outputs": [],
   "source": []
  }
 ],
 "metadata": {
  "kernelspec": {
   "display_name": "Python 3",
   "language": "python",
   "name": "python3"
  },
  "language_info": {
   "codemirror_mode": {
    "name": "ipython",
    "version": 3
   },
   "file_extension": ".py",
   "mimetype": "text/x-python",
   "name": "python",
   "nbconvert_exporter": "python",
   "pygments_lexer": "ipython3",
   "version": "3.6.4"
  }
 },
 "nbformat": 4,
 "nbformat_minor": 4
}
