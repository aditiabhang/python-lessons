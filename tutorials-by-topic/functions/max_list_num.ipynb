{
 "cells": [
  {
   "cell_type": "code",
   "execution_count": 3,
   "metadata": {},
   "outputs": [],
   "source": [
    "def find_max_in_list(num_list):\n",
    "    \n",
    "    # handle for empty list\n",
    "    if len(num_list) == 0:\n",
    "        print(\"No elements in the list\")\n",
    "        \n",
    "        return None\n",
    "    \n",
    "    max_number = num_list[0]\n",
    "    \n",
    "    length = len(num_list)\n",
    "    \n",
    "    for i in range(1, length):\n",
    "        \n",
    "        if num_list[i] > max_number:\n",
    "            max_number = num_list[i]\n",
    "            \n",
    "    return max_number"
   ]
  },
  {
   "cell_type": "code",
   "execution_count": 4,
   "metadata": {},
   "outputs": [
    {
     "data": {
      "text/plain": [
       "10"
      ]
     },
     "execution_count": 4,
     "metadata": {},
     "output_type": "execute_result"
    }
   ],
   "source": [
    "my_list = [10, 9 ,0, 6, 3, 2, -1]\n",
    "\n",
    "find_max_in_list(my_list)\n"
   ]
  },
  {
   "cell_type": "code",
   "execution_count": null,
   "metadata": {},
   "outputs": [],
   "source": []
  }
 ],
 "metadata": {
  "kernelspec": {
   "display_name": "Python 3",
   "language": "python",
   "name": "python3"
  },
  "language_info": {
   "codemirror_mode": {
    "name": "ipython",
    "version": 3
   },
   "file_extension": ".py",
   "mimetype": "text/x-python",
   "name": "python",
   "nbconvert_exporter": "python",
   "pygments_lexer": "ipython3",
   "version": "3.6.4"
  }
 },
 "nbformat": 4,
 "nbformat_minor": 4
}
