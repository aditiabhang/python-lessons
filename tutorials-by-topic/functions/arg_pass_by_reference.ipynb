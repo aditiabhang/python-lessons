{
 "cells": [
  {
   "cell_type": "code",
   "execution_count": 1,
   "metadata": {},
   "outputs": [],
   "source": [
    "fruits_list = [\"Apple\", \"Mango\", \"Bananas\", \"Watermelon\"]"
   ]
  },
  {
   "cell_type": "code",
   "execution_count": 2,
   "metadata": {},
   "outputs": [],
   "source": [
    "def change_list(fruits_list):\n",
    "    \n",
    "    fruits_list[0] = \"Kiwi\"\n",
    "    \n",
    "    print(\"Inside the function: \", fruits_list)\n"
   ]
  },
  {
   "cell_type": "code",
   "execution_count": 3,
   "metadata": {},
   "outputs": [
    {
     "name": "stdout",
     "output_type": "stream",
     "text": [
      "Inside the function:  ['Kiwi', 'Mango', 'Bananas', 'Watermelon']\n"
     ]
    }
   ],
   "source": [
    "# modifying a complex data type modifies the actual data outside the function as well\n",
    "\n",
    "# we just don't re-assign/update an element of the data type, we have changed the contents of the original list\n",
    "# This is called a passing by reference\n",
    "\n",
    "change_list(fruits_list)\n"
   ]
  },
  {
   "cell_type": "code",
   "execution_count": 6,
   "metadata": {},
   "outputs": [
    {
     "name": "stdout",
     "output_type": "stream",
     "text": [
      "Outside the function: ['Kiwi', 'Mango', 'Bananas', 'Watermelon']\n"
     ]
    }
   ],
   "source": [
    "# global list\n",
    "print(\"Outside the function:\", fruits_list)"
   ]
  },
  {
   "cell_type": "code",
   "execution_count": null,
   "metadata": {},
   "outputs": [],
   "source": []
  },
  {
   "cell_type": "code",
   "execution_count": 7,
   "metadata": {},
   "outputs": [],
   "source": [
    "fruits_list = [\"Apple\", \"Mango\", \"Bananas\", \"Watermelon\"]\n",
    "\n",
    "# the name of the argument doesn't have to match the variable outside the function. \n",
    "def sort_items_and_remove_last(my_list):\n",
    "    \n",
    "    \n",
    "    my_list.sort()\n",
    "    my_list.pop()\n",
    "    \n",
    "    print(\"Inside the function\", my_list)"
   ]
  },
  {
   "cell_type": "code",
   "execution_count": 9,
   "metadata": {},
   "outputs": [
    {
     "name": "stdout",
     "output_type": "stream",
     "text": [
      "Inside the function ['Apple', 'Bananas', 'Mango']\n"
     ]
    }
   ],
   "source": [
    "# global list is sorted and last element is removed\n",
    "\n",
    "sort_items_and_remove_last(fruits_list)"
   ]
  },
  {
   "cell_type": "code",
   "execution_count": 10,
   "metadata": {},
   "outputs": [
    {
     "name": "stdout",
     "output_type": "stream",
     "text": [
      "Ouside the function ['Apple', 'Bananas', 'Mango']\n"
     ]
    }
   ],
   "source": [
    "# when the contents of the datatype are modified inside the function the original datatype content in memory (outside the function)\n",
    "# also gets updated.\n",
    "\n",
    "print(\"Ouside the function\", fruits_list)"
   ]
  },
  {
   "cell_type": "code",
   "execution_count": null,
   "metadata": {},
   "outputs": [],
   "source": []
  }
 ],
 "metadata": {
  "kernelspec": {
   "display_name": "Python 3",
   "language": "python",
   "name": "python3"
  },
  "language_info": {
   "codemirror_mode": {
    "name": "ipython",
    "version": 3
   },
   "file_extension": ".py",
   "mimetype": "text/x-python",
   "name": "python",
   "nbconvert_exporter": "python",
   "pygments_lexer": "ipython3",
   "version": "3.6.4"
  }
 },
 "nbformat": 4,
 "nbformat_minor": 4
}
